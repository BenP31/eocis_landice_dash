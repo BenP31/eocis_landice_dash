{
 "cells": [
  {
   "cell_type": "code",
   "execution_count": null,
   "metadata": {},
   "outputs": [],
   "source": [
    "import os\n",
    "\n",
    "import cartopy.crs as ccrs\n",
    "import geopandas as gpd\n",
    "import matplotlib.pyplot as plt\n",
    "import numpy as np\n",
    "import pyproj as proj\n",
    "import pandas as pd\n",
    "from netCDF4 import Dataset  # pylint:disable=no-name-in-module\n",
    "from shapely.geometry import Point\n",
    "\n",
    "sf_type = 1\n",
    "marker_size = 1"
   ]
  },
  {
   "cell_type": "markdown",
   "metadata": {},
   "source": [
    "# Antarctica"
   ]
  },
  {
   "cell_type": "code",
   "execution_count": null,
   "metadata": {},
   "outputs": [],
   "source": [
    "nc = Dataset(\n",
    "    os.path.join(\n",
    "        os.environ[\"HOME\"],\n",
    "        \"Documents\",\n",
    "        \"eocis\",\n",
    "        \"landice_dash_test\",\n",
    "        \"data_files\",\n",
    "        \"EOCIS-GIS-L3C-SEC-MULTIMISSION-5KM-5YEAR-MEANS-201001-201501-fv1.nc\",\n",
    "    )\n",
    ")"
   ]
  },
  {
   "cell_type": "code",
   "execution_count": null,
   "metadata": {},
   "outputs": [],
   "source": [
    "for k, v in nc.variables.items():\n",
    "    print(k, \"\\n\", v)\n",
    "    print()"
   ]
  },
  {
   "cell_type": "code",
   "execution_count": null,
   "metadata": {},
   "outputs": [],
   "source": [
    "nc[\"basin_id\"][:].data.shape"
   ]
  },
  {
   "cell_type": "code",
   "execution_count": null,
   "metadata": {},
   "outputs": [],
   "source": [
    "x_values: np.ndarray = nc[\"x\"][:].data\n",
    "y_values: np.ndarray = nc[\"y\"][:].data\n",
    "lat: np.ndarray = nc[\"lat\"][:].data\n",
    "lon: np.ndarray = nc[\"lon\"][:].data\n",
    "surf_type: np.ndarray = nc[\"surface_type\"][:].data\n",
    "sec: np.ndarray = np.squeeze(nc[\"sec\"][:].data)\n",
    "\n",
    "x_coords, y_coords = np.meshgrid(x_values, y_values, indexing=\"xy\")\n",
    "\n",
    "print(x_values.shape, y_values.shape)\n",
    "print(x_coords.shape, y_coords.shape, sec.shape, surf_type.shape)"
   ]
  },
  {
   "cell_type": "code",
   "execution_count": null,
   "metadata": {},
   "outputs": [],
   "source": [
    "coords_arr = [Point(x, y) for x, y in zip(x_coords.flatten(), y_coords.flatten())]\n",
    "sec_arr = sec.flatten()\n",
    "surf_type_arr = surf_type.flatten()\n",
    "\n",
    "print(len(coords_arr), sec_arr.shape, surf_type_arr.shape)"
   ]
  },
  {
   "cell_type": "code",
   "execution_count": null,
   "metadata": {},
   "outputs": [],
   "source": [
    "np.unique(surf_type)"
   ]
  },
  {
   "cell_type": "code",
   "execution_count": null,
   "metadata": {},
   "outputs": [],
   "source": [
    "my_data = gpd.GeoDataFrame(\n",
    "    data={\n",
    "        \"SEC\": sec_arr,\n",
    "        \"surface type\": surf_type_arr,\n",
    "        \"geometry\": coords_arr,\n",
    "    },\n",
    "    crs=\"epsg:3031\",\n",
    ")\n",
    "my_data.head()"
   ]
  },
  {
   "cell_type": "code",
   "execution_count": null,
   "metadata": {},
   "outputs": [],
   "source": [
    "sum(my_data[\"SEC\"].isna())"
   ]
  },
  {
   "cell_type": "code",
   "execution_count": null,
   "metadata": {},
   "outputs": [],
   "source": [
    "ais_basins = gpd.read_file(\"aux_files/IMBIE_AIS_Basins/ANT_Basins_IMBIE2_v1.6.shp\")\n",
    "ais_basins = (\n",
    "    ais_basins.reset_index().rename(columns={\"index\": \"basin_id\"}).to_crs(\"epsg:4326\")\n",
    ")\n",
    "ais_basins[\"basin_id\"] = (ais_basins[\"basin_id\"] + 1).astype(str)\n",
    "ais_basins.head()"
   ]
  },
  {
   "cell_type": "code",
   "execution_count": null,
   "metadata": {},
   "outputs": [],
   "source": [
    "# crs_3031 = ccrs.Stereographic(central_latitude=-90, true_scale_latitude=-71)\n",
    "# transformed = my_data.to_crs(crs_3031)\n",
    "\n",
    "# fig, ax = plt.subplots(\n",
    "#     figsize=(8, 6), facecolor=\"white\", subplot_kw=dict(projection=crs_3031)\n",
    "# )  # Create our plot\n",
    "\n",
    "# transformed[transformed[\"SEC\"].notna()].plot(\n",
    "#     column=\"SEC\",\n",
    "#     ax=ax,\n",
    "#     legend=True,\n",
    "#     vmax=2,\n",
    "#     vmin=-2,\n",
    "#     marker=\"s\",\n",
    "#     markersize=marker_size,\n",
    "#     cmap=\"bwr_r\",\n",
    "# )\n",
    "\n",
    "# ais_basins.plot(color=\"none\", edgecolor=\"black\", ax=ax, alpha=0.5, lw=0.7)\n",
    "\n",
    "# # ax.coastlines(resolution=\"50m\", color=\"black\")  # Add coastlines\n",
    "# gl = ax.gridlines(draw_labels=True, color=\"black\", alpha=0.25)\n",
    "# gl.ylabel_style = {\n",
    "#     \"color\": \"black\",\n",
    "#     \"alpha\": 0.5,\n",
    "# }\n",
    "# ax.set_xlim(-2.8e6, 2.8e6)\n",
    "# ax.set_ylim(-2.8e6, 2.8e6)\n",
    "\n",
    "# fig.show()"
   ]
  },
  {
   "cell_type": "code",
   "execution_count": null,
   "metadata": {},
   "outputs": [],
   "source": [
    "timedata_ais = pd.read_csv(\n",
    "    \"/home/jgnq4/Documents/eocis/landice_dash_test/processed_files/time_series_data_AIS.csv\"\n",
    ").sort_values(\"code\")\n",
    "\n",
    "max_v_ais = np.round(timedata_ais[\"SEC\"].abs().max(axis=None) + 0.05, 1)\n",
    "timedata_ais = timedata_ais.reset_index(drop=True).reset_index()\n",
    "timedata_ais[\"basin\"] = timedata_ais[\"basin\"].astype(str)\n",
    "timedata_ais = pd.merge(\n",
    "    timedata_ais,\n",
    "    ais_basins[[\"basin_id\", \"Subregion\"]],\n",
    "    how=\"outer\",\n",
    "    left_on=\"basin\",\n",
    "    right_on=\"basin_id\",\n",
    ").drop(columns=\"basin_id\")\n",
    "timedata_ais.loc[timedata_ais[\"basin\"] == \"all\", \"Subregion\"] = \"All\"\n",
    "timedata_ais.loc[timedata_ais[\"basin\"] == \"0\", \"Subregion\"] = \"Outside Basins\"\n",
    "timedata_ais"
   ]
  },
  {
   "cell_type": "code",
   "execution_count": null,
   "metadata": {},
   "outputs": [],
   "source": [
    "import altair as alt\n",
    "import vl_convert as vlc\n",
    "import json\n",
    "from IPython.display import Image\n",
    "\n",
    "alt.data_transformers.enable(\"vegafusion\")\n",
    "\n",
    "click_basin_ais = alt.selection_point(fields=[\"Subregion\"])\n",
    "\n",
    "map_ais = (\n",
    "    alt.Chart(\n",
    "        ais_basins,\n",
    "    )\n",
    "    .mark_geoshape()\n",
    "    .encode(\n",
    "        color=alt.Color(\"Subregion:N\").legend(orient=\"right\"),\n",
    "        opacity=alt.condition(click_basin_ais, alt.value(1), alt.value(0.2)),\n",
    "        tooltip=[\"basin_id:N\", \"Subregion:N\", \"Regions:N\"],\n",
    "    )\n",
    "    .project(type=\"stereographic\", center=[-90, -180])\n",
    "    .properties(width=300, height=300)\n",
    ")\n",
    "\n",
    "jchart1 = alt.JupyterChart(map_ais.add_params(click_basin_ais))\n",
    "jchart1"
   ]
  },
  {
   "cell_type": "code",
   "execution_count": null,
   "metadata": {},
   "outputs": [],
   "source": [
    "# nearest = alt.selection_point(nearest=True, on=\"mouseover\", fields=[\"index\"], empty=False)\n",
    "\n",
    "line_ais = (\n",
    "    alt.Chart(timedata_ais, title=\"Mean SEC per Basin\")\n",
    "    .mark_line()\n",
    "    .encode(\n",
    "        alt.X(\"midpoint:Q\", axis=alt.Axis(labels=False), title=\"Time Period\"),\n",
    "        alt.Y(\n",
    "            \"SEC:Q\",\n",
    "            scale=alt.Scale(domain=(-max_v_ais, max_v_ais)),\n",
    "            title=\"Mean elevation change (m/year)\",\n",
    "        ),\n",
    "        opacity=alt.condition(click_basin_ais, alt.value(1), alt.value(0.05)),\n",
    "        color=alt.Color(\"Subregion:N\"),\n",
    "        tooltip=[\"SEC\", \"period\", \"Subregion\"],\n",
    "    )\n",
    "    .properties(width=900, height=300)\n",
    ")\n",
    "\n",
    "# # Draw a rule at the location of the selection\n",
    "# rules = base.mark_rule(color=\"gray\").encode(\n",
    "#     x=\"index:Q\",\n",
    "#     opacity=alt.condition(nearest, alt.value(1), alt.value(0)),\n",
    "#     tooltip=[\n",
    "#         alt.Tooltip(\"period\", type=\"nominal\", title=\"Time period\"),\n",
    "#     ],\n",
    "# )\n",
    "\n",
    "# points = line.mark_circle().encode(opacity=alt.condition(nearest, alt.value(1), alt.value(0)))\n",
    "\n",
    "zero = pd.DataFrame([{\"zero\": 0.0}])\n",
    "zero_rule = (\n",
    "    alt.Chart(zero).mark_rule(color=\"black\", strokeDash=[1]).encode(y=\"zero:Q\", size=alt.value(1))\n",
    ")\n",
    "\n",
    "line_chart_ais = line_ais + zero_rule\n",
    "\n",
    "jchart2 = alt.JupyterChart(line_chart_ais.add_params(click_basin_ais))\n",
    "jchart2"
   ]
  },
  {
   "cell_type": "code",
   "execution_count": null,
   "metadata": {},
   "outputs": [],
   "source": [
    "chart = (line_chart_ais | map_ais).add_params(click_basin_ais)\n",
    "\n",
    "\n",
    "jchart = alt.JupyterChart(chart)\n",
    "jchart"
   ]
  },
  {
   "cell_type": "markdown",
   "metadata": {},
   "source": [
    "# Greenland"
   ]
  },
  {
   "cell_type": "code",
   "execution_count": null,
   "metadata": {},
   "outputs": [],
   "source": [
    "nc = Dataset(\n",
    "    os.path.join(\n",
    "        os.environ[\"HOME\"],\n",
    "        \"Documents\",\n",
    "        \"eocis\",\n",
    "        \"landice_dash_test\",\n",
    "        \"data_files\",\n",
    "        \"EOCIS-GIS-L3C-SEC-MULTIMISSION-5KM-5YEAR-MEANS-201001-201501-fv1.nc\",\n",
    "    )\n",
    ")"
   ]
  },
  {
   "cell_type": "code",
   "execution_count": null,
   "metadata": {},
   "outputs": [],
   "source": [
    "for k, v in nc.variables.items():\n",
    "    print(k, \"\\n\", v)\n",
    "    print()"
   ]
  },
  {
   "cell_type": "code",
   "execution_count": null,
   "metadata": {},
   "outputs": [],
   "source": [
    "x_values: np.ndarray = nc[\"x\"][:].data\n",
    "y_values: np.ndarray = nc[\"y\"][:].data\n",
    "lat: np.ndarray = nc[\"lat\"][:].data\n",
    "lon: np.ndarray = nc[\"lon\"][:].data\n",
    "surf_type: np.ndarray = nc[\"surface_type\"][:].data\n",
    "sec: np.ndarray = np.squeeze(nc[\"sec\"][:].data)\n",
    "\n",
    "x_coords, y_coords = np.meshgrid(x_values, y_values, indexing=\"xy\")\n",
    "\n",
    "print(x_values.shape, y_values.shape)\n",
    "print(x_coords.shape, y_coords.shape, sec.shape, surf_type.shape)\n",
    "print(\"X:\", np.min(x_values), np.max(x_values))\n",
    "print(\"Y:\", np.min(y_values), np.max(y_values))"
   ]
  },
  {
   "cell_type": "code",
   "execution_count": null,
   "metadata": {},
   "outputs": [],
   "source": [
    "coords_arr = [Point(x, y) for x, y in zip(x_coords.flatten(), y_coords.flatten())]\n",
    "sec_arr = sec.flatten()\n",
    "surf_type_arr = surf_type.flatten()\n",
    "\n",
    "print(len(coords_arr), sec_arr.shape, surf_type_arr.shape)"
   ]
  },
  {
   "cell_type": "code",
   "execution_count": null,
   "metadata": {},
   "outputs": [],
   "source": [
    "my_data = gpd.GeoDataFrame(\n",
    "    data={\n",
    "        \"SEC\": sec_arr,\n",
    "        \"surface type\": surf_type_arr,\n",
    "        \"geometry\": coords_arr,\n",
    "    },\n",
    "    crs=\"epsg:3413\",\n",
    ")\n",
    "my_data.head()"
   ]
  },
  {
   "cell_type": "code",
   "execution_count": null,
   "metadata": {},
   "outputs": [],
   "source": [
    "crs_new = ccrs.NorthPolarStereo(central_longitude=-40)\n",
    "gis_basins = gpd.read_file(\"aux_files/IMBIE_GIS_Basins/Greenland_Basins_PS_v1.4.2.shp\").to_crs(\n",
    "    \"EPSG:4326\"\n",
    ")\n",
    "gis_basins = gis_basins.reset_index().rename(\n",
    "    columns={\"index\": \"basin_id\", \"SUBREGION1\": \"Subregion\"}\n",
    ")\n",
    "gis_basins[\"basin_id\"] = (gis_basins[\"basin_id\"] + 1).astype(str)\n",
    "gis_basins.head(10)"
   ]
  },
  {
   "cell_type": "code",
   "execution_count": null,
   "metadata": {},
   "outputs": [],
   "source": [
    "crs_new = ccrs.NorthPolarStereo(central_longitude=-40)\n",
    "transformed = my_data.to_crs(crs_new)\n",
    "\n",
    "fig, ax = plt.subplots(\n",
    "    figsize=(9, 7), facecolor=\"white\", subplot_kw=dict(projection=crs_new)\n",
    ")  # Create our plot\n",
    "\n",
    "transformed[transformed[\"SEC\"].notna() & (transformed[\"surface type\"] == 0)].plot(\n",
    "    column=\"SEC\",\n",
    "    ax=ax,\n",
    "    legend=True,\n",
    "    vmax=2,\n",
    "    vmin=-2,\n",
    "    marker=\"s\",\n",
    "    markersize=marker_size,\n",
    "    cmap=\"bwr_r\",\n",
    ")\n",
    "\n",
    "gis_basins.to_crs(crs_new).plot(color=\"none\", edgecolor=\"black\", ax=ax, alpha=0.5, lw=0.7)\n",
    "\n",
    "gl = ax.gridlines(draw_labels=True, color=\"black\", alpha=0.25)\n",
    "gl.ylabel_style = {\n",
    "    \"color\": \"black\",\n",
    "    \"alpha\": 0.5,\n",
    "}\n",
    "\n",
    "\n",
    "fig.show()"
   ]
  },
  {
   "cell_type": "code",
   "execution_count": null,
   "metadata": {},
   "outputs": [],
   "source": [
    "click_basin_gis = alt.selection_point(fields=[\"Subregion\"], bind=\"legend\")\n",
    "\n",
    "map_gis = (\n",
    "    alt.Chart(\n",
    "        gis_basins.to_crs(epsg=\"4326\"),\n",
    "    )\n",
    "    .mark_geoshape()\n",
    "    .encode(\n",
    "        color=alt.Color(\n",
    "            \"Subregion:N\",\n",
    "            sort=[\"All\", \"Outside basin\", \"NO\", \"NE\", \"NW\", \"CE\", \"CW\", \"SE\", \"SW\"],\n",
    "        ).legend(orient=\"right\"),\n",
    "        opacity=alt.condition(click_basin_gis, alt.value(1), alt.value(0.2)),\n",
    "        tooltip=[\"basin_id:N\", \"Subregion:N\"],\n",
    "    )\n",
    "    .project(\"stereographic\", rotate=[0, 45, 20])\n",
    ")\n",
    "\n",
    "jchart4 = alt.JupyterChart(map_gis.add_params(click_basin_gis), debounce_wait=1000)\n",
    "jchart4"
   ]
  },
  {
   "cell_type": "code",
   "execution_count": null,
   "metadata": {},
   "outputs": [],
   "source": [
    "timedata_gis = pd.read_csv(\n",
    "    \"/home/jgnq4/Documents/eocis/landice_dash_test/processed_files/time_series_data_GIS.csv\"\n",
    ").sort_values(\"code\")\n",
    "\n",
    "max_v_gis = np.round(timedata_gis[\"SEC\"].abs().max(axis=None) + 0.05, 1)\n",
    "timedata_gis = timedata_gis.reset_index(drop=True).reset_index()\n",
    "timedata_gis[\"basin\"] = timedata_gis[\"basin\"].astype(str)\n",
    "timedata_gis = pd.merge(\n",
    "    timedata_gis,\n",
    "    gis_basins[[\"basin_id\", \"Subregion\"]],\n",
    "    how=\"outer\",\n",
    "    left_on=\"basin\",\n",
    "    right_on=\"basin_id\",\n",
    ").drop(columns=\"basin_id\")\n",
    "timedata_gis.loc[timedata_gis[\"basin\"] == \"all\", \"Subregion\"] = \"All\"\n",
    "timedata_gis = timedata_gis.drop(np.where(timedata_gis[\"basin\"] == \"0\")[0], axis=0)\n",
    "# timedata_gis.loc[timedata_gis[\"basin\"] == \"0\", \"Subregion\"] = \"Outside\"\n",
    "\n",
    "timedata_gis"
   ]
  },
  {
   "cell_type": "code",
   "execution_count": null,
   "metadata": {},
   "outputs": [],
   "source": [
    "max_v_gis"
   ]
  },
  {
   "cell_type": "code",
   "execution_count": null,
   "metadata": {},
   "outputs": [],
   "source": [
    "timedata_gis[timedata_gis[\"basin\"] == \"7\"]"
   ]
  },
  {
   "cell_type": "code",
   "execution_count": null,
   "metadata": {},
   "outputs": [],
   "source": [
    "line_gis = (\n",
    "    alt.Chart(timedata_gis, title=\"Mean SEC per Basin\")\n",
    "    .mark_line()\n",
    "    .encode(\n",
    "        alt.X(\n",
    "            \"midpoint:Q\",\n",
    "            axis=alt.Axis(format=\"4d\", tickMinStep=2),\n",
    "            title=\"Time Period\",\n",
    "        ),\n",
    "        alt.Y(\n",
    "            \"SEC:Q\",\n",
    "            scale=alt.Scale(domain=(-max_v_gis, max_v_gis)),\n",
    "            title=\"Mean elevation change (m/year)\",\n",
    "        ),\n",
    "        opacity=alt.condition(click_basin_gis, alt.value(1), alt.value(0.05)),\n",
    "        color=alt.Color(\n",
    "            \"Subregion:N\",\n",
    "            sort=[\"All\", \"Outside basin\", \"NO\", \"NE\", \"NW\", \"CE\", \"CW\", \"SE\", \"SW\"],\n",
    "        ).legend(orient=\"right\"),\n",
    "        tooltip=[\"SEC\", \"period\", \"Subregion\"],\n",
    "    )\n",
    "    .properties(width=900, height=300)\n",
    ")\n",
    "\n",
    "# # Draw a rule at the location of the selection\n",
    "# rules = base.mark_rule(color=\"gray\").encode(\n",
    "#     x=\"index:Q\",\n",
    "#     opacity=alt.condition(nearest, alt.value(1), alt.value(0)),\n",
    "#     tooltip=[\n",
    "#         alt.Tooltip(\"period\", type=\"nominal\", title=\"Time period\"),\n",
    "#     ],\n",
    "# )\n",
    "\n",
    "# points = line.mark_circle().encode(opacity=alt.condition(nearest, alt.value(1), alt.value(0)))\n",
    "\n",
    "zero = pd.DataFrame([{\"zero\": 0.0}])\n",
    "zero_rule = (\n",
    "    alt.Chart(zero)\n",
    "    .mark_rule(color=\"black\", strokeDash=[1])\n",
    "    .encode(y=\"zero:Q\", size=alt.value(1))\n",
    ")\n",
    "\n",
    "line_chart_gis = line_gis + zero_rule\n",
    "\n",
    "jchart4 = alt.JupyterChart(line_chart_gis.add_params(click_basin_gis))\n",
    "jchart4"
   ]
  },
  {
   "cell_type": "code",
   "execution_count": null,
   "metadata": {},
   "outputs": [],
   "source": []
  },
  {
   "cell_type": "code",
   "execution_count": null,
   "metadata": {},
   "outputs": [],
   "source": [
    "chart = (line_chart_gis | map_gis).add_params(click_basin_gis)\n",
    "\n",
    "\n",
    "jchart = alt.JupyterChart(chart)\n",
    "jchart"
   ]
  },
  {
   "cell_type": "code",
   "execution_count": null,
   "metadata": {},
   "outputs": [],
   "source": []
  }
 ],
 "metadata": {
  "kernelspec": {
   "display_name": "eocis",
   "language": "python",
   "name": "python3"
  },
  "language_info": {
   "codemirror_mode": {
    "name": "ipython",
    "version": 3
   },
   "file_extension": ".py",
   "mimetype": "text/x-python",
   "name": "python",
   "nbconvert_exporter": "python",
   "pygments_lexer": "ipython3",
   "version": "3.12.2"
  }
 },
 "nbformat": 4,
 "nbformat_minor": 2
}
